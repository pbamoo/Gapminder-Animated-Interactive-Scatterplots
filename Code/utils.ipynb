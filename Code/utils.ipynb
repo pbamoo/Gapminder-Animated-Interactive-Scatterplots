{
 "cells": [
  {
   "cell_type": "markdown",
   "metadata": {},
   "source": [
    "### Import libraries"
   ]
  },
  {
   "cell_type": "code",
   "execution_count": 1,
   "metadata": {},
   "outputs": [],
   "source": [
    "import pandas as pd\n",
    "import numpy as np\n",
    "import matplotlib.pyplot as plt\n",
    "import seaborn as sns\n",
    "import warnings\n",
    "warnings.simplefilter(action = 'ignore', category = FutureWarning)\n",
    "pd.options.display.max_columns = None"
   ]
  },
  {
   "cell_type": "markdown",
   "metadata": {},
   "source": [
    "### Understanding the Data\n",
    "In this exercise we will reproduce Hans Rosling’s famous animation using the steps outlined below\n",
    "1. We are going to read in 3 datasets obtained from http://www.gapminder.org/data :\n",
    "    * worldwide fertility rate data\n",
    "    * worldwide life expectancy data\n",
    "    * worldwide population data\n",
    "\n",
    "\n",
    "2. Merge all the data into a single DataFrame.\n",
    "\n",
    "3. Generate a scatterplot for a single year.\n",
    "\n",
    "4. Combine images of scatterplots of all years to make an animation / gif."
   ]
  },
  {
   "cell_type": "code",
   "execution_count": 2,
   "metadata": {
    "scrolled": true
   },
   "outputs": [],
   "source": [
    "# Read files\n",
    "fert = pd.read_csv(\"../data/gapminder_total_fertility.csv\", index_col=0)\n",
    "population = pd.read_excel(\"../data/gapminder_population.xlsx\", index_col = 0, engine='openpyxl')\n",
    "life = pd.read_excel(\"../data/gapminder_lifeexpectancy.xlsx\", index_col=0, engine='openpyxl')"
   ]
  },
  {
   "cell_type": "markdown",
   "metadata": {},
   "source": [
    "### Preprocessing the Data\n",
    "* Transforming Dataframe\n",
    "* Handling NaNs"
   ]
  },
  {
   "cell_type": "code",
   "execution_count": 3,
   "metadata": {
    "scrolled": true
   },
   "outputs": [],
   "source": [
    "def transform_data(df1,df2,df3):\n",
    "    # Transform columns with dtype string to integer\n",
    "    df1.columns = df1.columns.astype(int)\n",
    "\n",
    "    # Rename index to 'country'\n",
    "    df1.index.name = 'country'\n",
    "    df2.index.name = 'country'\n",
    "    df3.index.name = 'country'\n",
    "\n",
    "    # Reset the index\n",
    "    df1 = df1.reset_index()\n",
    "    df2 = df2.reset_index()\n",
    "    df3 = df3.reset_index()\n",
    "\n",
    "    # Convert the tables into long format, melt & merge\n",
    "    df1 = df1.melt(id_vars='country', var_name='year', value_name='fertility_rate')\n",
    "    df2 = df2.melt(id_vars='country', var_name='year', value_name='total_population')\n",
    "    df3 = df3.melt(id_vars='country', var_name='year', value_name='life_expectancy')\n",
    "\n",
    "    df = df1.merge(df2).merge(df3)\n",
    "    df = df[ df.year >= 1950 ]\n",
    "    df.reset_index(drop=True, inplace=True)\n",
    "\n",
    "    return df\n",
    "\n",
    "df = transform_data(fert,population,life)"
   ]
  },
  {
   "cell_type": "code",
   "execution_count": 4,
   "metadata": {},
   "outputs": [],
   "source": [
    "def missing_data(df):\n",
    "    \n",
    "    # Options for filling NaNs(drop, Imputation using interpolation, ffill, bfill, mean, median, mode)\n",
    "    df = df.dropna()    \n",
    "    return df\n",
    "\n",
    "df = missing_data(df)"
   ]
  }
 ],
 "metadata": {
  "kernelspec": {
   "display_name": "Python 3",
   "language": "python",
   "name": "python3"
  },
  "language_info": {
   "codemirror_mode": {
    "name": "ipython",
    "version": 3
   },
   "file_extension": ".py",
   "mimetype": "text/x-python",
   "name": "python",
   "nbconvert_exporter": "python",
   "pygments_lexer": "ipython3",
   "version": "3.7.6"
  }
 },
 "nbformat": 4,
 "nbformat_minor": 4
}
